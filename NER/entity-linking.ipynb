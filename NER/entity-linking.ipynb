{
 "cells": [
  {
   "cell_type": "code",
   "execution_count": 1,
   "metadata": {},
   "outputs": [
    {
     "name": "stderr",
     "output_type": "stream",
     "text": [
      "/tmp/ipykernel_536211/2183090207.py:3: DeprecationWarning: Importing display from IPython.core.display is deprecated since IPython 7.14, please import from IPython display\n",
      "  from IPython.core.display import display, HTML\n"
     ]
    },
    {
     "data": {
      "text/html": [
       "<style>.container { width:90% !important; }</style>"
      ],
      "text/plain": [
       "<IPython.core.display.HTML object>"
      ]
     },
     "metadata": {},
     "output_type": "display_data"
    }
   ],
   "source": [
    "from IPython.core.interactiveshell import InteractiveShell\n",
    "InteractiveShell.ast_node_interactivity = \"all\"\n",
    "from IPython.core.display import display, HTML\n",
    "display(HTML(\"<style>.container { width:90% !important; }</style>\"))"
   ]
  },
  {
   "cell_type": "markdown",
   "metadata": {},
   "source": [
    "### Notable wiki ids of entities"
   ]
  },
  {
   "cell_type": "code",
   "execution_count": null,
   "metadata": {},
   "outputs": [],
   "source": [
    "wikidata_business_ids = {\"Q4830453\": \"business\",\n",
    "                         \"Q783794\": \"company\",\n",
    "                         \"Q6881511\":\"enterprise\"}\n",
    "\n",
    "wikidata_proffesion_ids = {\"Q12737077\":\"occupation\",\n",
    "                            \"Q28640\": \"profession\",\n",
    "                            \"Q4164871\": \"position\",\n",
    "                            \"Q255274\": \"white-collar worker\"}\n",
    "\n",
    "wikidata_lang_ids = {\"Q34770\": \"language\",\n",
    "                     \"Q1288568\": \"modern language\"}\n",
    "\n",
    "wikidata_country_ids = {\"Q6256\": \"country\"}"
   ]
  },
  {
   "cell_type": "markdown",
   "metadata": {},
   "source": [
    "### Imports and df loading"
   ]
  },
  {
   "cell_type": "code",
   "execution_count": 1,
   "metadata": {},
   "outputs": [
    {
     "data": {
      "text/html": [
       "<div>\n",
       "<style scoped>\n",
       "    .dataframe tbody tr th:only-of-type {\n",
       "        vertical-align: middle;\n",
       "    }\n",
       "\n",
       "    .dataframe tbody tr th {\n",
       "        vertical-align: top;\n",
       "    }\n",
       "\n",
       "    .dataframe thead th {\n",
       "        text-align: right;\n",
       "    }\n",
       "</style>\n",
       "<table border=\"1\" class=\"dataframe\">\n",
       "  <thead>\n",
       "    <tr style=\"text-align: right;\">\n",
       "      <th></th>\n",
       "      <th>creds</th>\n",
       "      <th>bio</th>\n",
       "      <th>profile</th>\n",
       "    </tr>\n",
       "  </thead>\n",
       "  <tbody>\n",
       "    <tr>\n",
       "      <th>0</th>\n",
       "      <td>an American by choice. · American Ethnicity an...</td>\n",
       "      <td>.</td>\n",
       "      <td>Jae Yang</td>\n",
       "    </tr>\n",
       "    <tr>\n",
       "      <th>1</th>\n",
       "      <td>MD, Internal Medicine, MS, Epidemiology, autho...</td>\n",
       "      <td>Well the steroids could decrease the efficacy ...</td>\n",
       "      <td>Amy Chai</td>\n",
       "    </tr>\n",
       "    <tr>\n",
       "      <th>3</th>\n",
       "      <td>stoic writer Big Data Practice Lead (2011-pres...</td>\n",
       "      <td>dad. data engineer. stoic writer. entrepreneur...</td>\n",
       "      <td>Michael David Cobb Bowen</td>\n",
       "    </tr>\n",
       "    <tr>\n",
       "      <th>4</th>\n",
       "      <td>Fighting the Forces of Evil (1907-present) Far...</td>\n",
       "      <td>As someone who was once ten years old, I can t...</td>\n",
       "      <td>Thomas Oregon</td>\n",
       "    </tr>\n",
       "    <tr>\n",
       "      <th>6</th>\n",
       "      <td>Analyst, Lawyer Works at U.S. Department of Ve...</td>\n",
       "      <td>Find anyone willing to buy them for more than ...</td>\n",
       "      <td>Douglas Peterson</td>\n",
       "    </tr>\n",
       "    <tr>\n",
       "      <th>...</th>\n",
       "      <td>...</td>\n",
       "      <td>...</td>\n",
       "      <td>...</td>\n",
       "    </tr>\n",
       "    <tr>\n",
       "      <th>2651</th>\n",
       "      <td>I am non-binary · LGBTQ+</td>\n",
       "      <td>you should use their proper pronouns please wh...</td>\n",
       "      <td>Saturns Fern</td>\n",
       "    </tr>\n",
       "    <tr>\n",
       "      <th>2652</th>\n",
       "      <td>Writer (2020-present) Studied Government in th...</td>\n",
       "      <td>I’m a patriotic American who loves life, liber...</td>\n",
       "      <td>Lucas Quidera</td>\n",
       "    </tr>\n",
       "    <tr>\n",
       "      <th>2653</th>\n",
       "      <td>Works at Self-Employment Worked at Google Stud...</td>\n",
       "      <td>I was a chemist for the U.S. federal governmen...</td>\n",
       "      <td>Chuck Bluestein</td>\n",
       "    </tr>\n",
       "    <tr>\n",
       "      <th>2656</th>\n",
       "      <td>BS Mechanical Engineering, University of Flori...</td>\n",
       "      <td>Graduate Engineer voted “Most Outstanding Mech...</td>\n",
       "      <td>Dean Rojas</td>\n",
       "    </tr>\n",
       "    <tr>\n",
       "      <th>2670</th>\n",
       "      <td>Studied sheep breeding and pregnancy of sheep ...</td>\n",
       "      <td>Wow so exciting to see it’s really beautiful</td>\n",
       "      <td>Mark Martin</td>\n",
       "    </tr>\n",
       "  </tbody>\n",
       "</table>\n",
       "<p>879 rows × 3 columns</p>\n",
       "</div>"
      ],
      "text/plain": [
       "                                                  creds  \\\n",
       "0     an American by choice. · American Ethnicity an...   \n",
       "1     MD, Internal Medicine, MS, Epidemiology, autho...   \n",
       "3     stoic writer Big Data Practice Lead (2011-pres...   \n",
       "4     Fighting the Forces of Evil (1907-present) Far...   \n",
       "6     Analyst, Lawyer Works at U.S. Department of Ve...   \n",
       "...                                                 ...   \n",
       "2651                           I am non-binary · LGBTQ+   \n",
       "2652  Writer (2020-present) Studied Government in th...   \n",
       "2653  Works at Self-Employment Worked at Google Stud...   \n",
       "2656  BS Mechanical Engineering, University of Flori...   \n",
       "2670  Studied sheep breeding and pregnancy of sheep ...   \n",
       "\n",
       "                                                    bio  \\\n",
       "0                                                     .   \n",
       "1     Well the steroids could decrease the efficacy ...   \n",
       "3     dad. data engineer. stoic writer. entrepreneur...   \n",
       "4     As someone who was once ten years old, I can t...   \n",
       "6     Find anyone willing to buy them for more than ...   \n",
       "...                                                 ...   \n",
       "2651  you should use their proper pronouns please wh...   \n",
       "2652  I’m a patriotic American who loves life, liber...   \n",
       "2653  I was a chemist for the U.S. federal governmen...   \n",
       "2656  Graduate Engineer voted “Most Outstanding Mech...   \n",
       "2670      Wow so exciting to see it’s really beautiful    \n",
       "\n",
       "                       profile  \n",
       "0                     Jae Yang  \n",
       "1                     Amy Chai  \n",
       "3     Michael David Cobb Bowen  \n",
       "4                Thomas Oregon  \n",
       "6             Douglas Peterson  \n",
       "...                        ...  \n",
       "2651              Saturns Fern  \n",
       "2652             Lucas Quidera  \n",
       "2653           Chuck Bluestein  \n",
       "2656                Dean Rojas  \n",
       "2670               Mark Martin  \n",
       "\n",
       "[879 rows x 3 columns]"
      ]
     },
     "execution_count": 1,
     "metadata": {},
     "output_type": "execute_result"
    }
   ],
   "source": [
    "import re\n",
    "from pathlib import Path \n",
    "import os\n",
    "import pickle \n",
    "import pandas as pd \n",
    "import numpy as np\n",
    "PATH = Path(\"/home/akinwilson/data/mana/quora/quora\")\n",
    "\n",
    "cols = ['creds_list', 'bio', 'profile_url']\n",
    "df = pickle.load(open(PATH / \"user-info.p\", \"rb\"))[cols]\n",
    "# df = df[cols]\n",
    "\n",
    "df[\"creds_list\"] =  (df.creds_list\n",
    "                     .apply(lambda x: \" \".join(x))\n",
    "                     .apply(lambda x: np.nan if len(x)==0 else x)\n",
    "                     .apply(lambda x: np.nan if str(x) == 'None' else x) )\n",
    "\n",
    "df['bio'] = (df.bio\n",
    "             .apply(lambda x: np.nan if len(x)==0 else x[0])\n",
    "             .apply(lambda x: np.nan if str(x) == 'None' else x))\n",
    "\n",
    "df['profile_url'] = (df.profile_url\n",
    "                    .apply(lambda x: \" \".join(y for y in x.split(\"/\")[-1].split(\"-\") if not y.isdigit())))\n",
    "# column rename \n",
    "df.rename(mapper={\"profile_url\":\"profile\", \"creds_list\":\"creds\"},axis=1,inplace=True)\n",
    "\n",
    "df.dropna(axis=0, inplace=True)\n",
    "\n",
    "\n",
    "df"
   ]
  },
  {
   "cell_type": "markdown",
   "metadata": {},
   "source": [
    "### Data preprocessing"
   ]
  },
  {
   "cell_type": "code",
   "execution_count": 17,
   "metadata": {},
   "outputs": [],
   "source": [
    "\n",
    "boundaries_creds = (df.creds\n",
    "                      .str\n",
    "                      .len()\n",
    "                      .describe(percentiles=[.05,.95])[[\"5%\", \"95%\"]])\n",
    "\n",
    "boundaries_bios = (df.bio\n",
    "                  .str\n",
    "                  .len()\n",
    "                  .describe(percentiles=[.10,.95])[[\"10%\", \"95%\"]])\n",
    "\n",
    "df = df[(df.creds.str.len() > min(boundaries_creds)) & (df.creds.str.len() < max(boundaries_creds))]\n",
    "df = df[(df.bio.str.len() > min(boundaries_bios)) & (df.bio.str.len() < max(boundaries_bios))]\n",
    "\n",
    "\n",
    "txt = \" \".join( df.iloc[1])"
   ]
  },
  {
   "cell_type": "markdown",
   "metadata": {},
   "source": [
    "### Statistical entity linking"
   ]
  },
  {
   "cell_type": "code",
   "execution_count": 10,
   "metadata": {},
   "outputs": [],
   "source": [
    "import spacy  # version 3.0.6'\n",
    "# initialize language model\n",
    "\n",
    "MODEL = \"en_core_web_md\"\n",
    "\n",
    "nlp = spacy.load(MODEL)\n",
    "# add pipeline (declared through entry_points in setup.py)\n",
    "nlp.add_pipe(\"entityLinker\", last=True)\n",
    "\n",
    "doc = nlp(txt)\n",
    "\n",
    "def entity_linking(input_text):\n",
    "    # initialize language model\n",
    "    nlp = spacy.load(MODEL)\n",
    "    # add pipeline (declared through entry_points in setup.py)\n",
    "    nlp.add_pipe(\"entityLinker\", last=True)\n",
    "    doc = nlp(input_text)\n",
    "    # returns all entities in the whole document\n",
    "    all_linked_entities = doc._.linkedEntities\n",
    "    # iterates over sentences and prints linked entities\n",
    "    for sent in doc.sents:\n",
    "        sent = sent \n",
    "        sent._.linkedEntities.pretty_print()\n",
    "        sent._.linkedEntities.print_super_entities()\n",
    "        print(\"*\"*30)\n",
    "    return all_linked_entities, sent \n",
    "\n",
    "ents,sent = entity_linking(txt)"
   ]
  },
  {
   "cell_type": "code",
   "execution_count": 16,
   "metadata": {},
   "outputs": [
    {
     "data": {
      "text/plain": [
       "<EntityCollection (1 entities):\n",
       "-https://www.wikidata.org/wiki/Q45581 Michael the Archangel     archangel in Jewish, Christian, and Islamic teachings>"
      ]
     },
     "execution_count": 16,
     "metadata": {},
     "output_type": "execute_result"
    }
   ],
   "source": [
    "\n",
    "\n",
    "sparql_hobbies = \"\"\"\n",
    "PREFIX dbo:    <http://dbpedia.org/ontology/>\n",
    "PREFIX rdfs:   <http://www.w3.org/2000/01/rdf-schema#>\n",
    "PREFIX dbr:    <http://dbpedia.org/resource/>\n",
    "PREFIX dbp:    <http://dbpedia.org/property/>\n",
    "PREFIX pto:     <http://www.productontology.org/id/> \n",
    "\n",
    "SELECT ?label ?id\n",
    "WHERE  {\n",
    "?page dbo:wikiPageID 31257416 .\n",
    "?page dbo:wikiPageWikiLink  ?hobbyList.\n",
    " ?hobbyList rdfs:label ?label;\n",
    " dbo:wikiPageID ?id .\n",
    "FILTER (LANG( ?label) = 'en')\n",
    " } \n",
    "\"\"\"\n",
    "\n",
    "sparql_occuptations = \"\"\"\n",
    "PREFIX dbo:    <http://dbpedia.org/ontology/>\n",
    "PREFIX rdfs:   <http://www.w3.org/2000/01/rdf-schema#>\n",
    "PREFIX dbr:    <http://dbpedia.org/resource/>\n",
    "PREFIX dbp:    <http://dbpedia.org/property/>\n",
    "PREFIX pto:     <http://www.productontology.org/id/> \n",
    "PREFIX dbc: <http://dbpedia.org/resource/Category:>\n",
    "PREFIX dct: <http://purl.org/dc/terms/>\n",
    "\n",
    "SELECT ?label ?id\n",
    "WHERE  {\n",
    "?page dbo:wikiPageID 35283370; \n",
    "dbo:wikiPageWikiLink ?ocs.\n",
    "?ocs  dbo:wikiPageWikiLink ?jobs. \n",
    "?jobs rdfs:label ?label;\n",
    " dbo:wikiPageID ?id .\n",
    "FILTER (LANG( ?label) = 'en')\n",
    " } \n",
    "\"\"\""
   ]
  },
  {
   "cell_type": "markdown",
   "metadata": {},
   "source": [
    "### Entity Tagging\n",
    "See github repo: https://github.com/egerber/spaCy-entity-linker"
   ]
  },
  {
   "cell_type": "code",
   "execution_count": 79,
   "metadata": {},
   "outputs": [
    {
     "ename": "NameError",
     "evalue": "name 'text' is not defined",
     "output_type": "error",
     "traceback": [
      "\u001b[0;31m---------------------------------------------------------------------------\u001b[0m",
      "\u001b[0;31mNameError\u001b[0m                                 Traceback (most recent call last)",
      "Input \u001b[0;32mIn [79]\u001b[0m, in \u001b[0;36m<cell line: 10>\u001b[0;34m()\u001b[0m\n\u001b[1;32m      7\u001b[0m \u001b[38;5;66;03m# add pipeline (declared through entry_points in setup.py)\u001b[39;00m\n\u001b[1;32m      8\u001b[0m nlp\u001b[38;5;241m.\u001b[39madd_pipe(\u001b[38;5;124m\"\u001b[39m\u001b[38;5;124mentity_linker\u001b[39m\u001b[38;5;124m\"\u001b[39m, last\u001b[38;5;241m=\u001b[39m\u001b[38;5;28;01mTrue\u001b[39;00m)\n\u001b[0;32m---> 10\u001b[0m doc \u001b[38;5;241m=\u001b[39m nlp(\u001b[43mtext\u001b[49m)\n\u001b[1;32m     12\u001b[0m \u001b[38;5;28;01mdef\u001b[39;00m \u001b[38;5;21mentity_linking\u001b[39m(input_text):\n\u001b[1;32m     13\u001b[0m     \u001b[38;5;66;03m# initialize language model\u001b[39;00m\n\u001b[1;32m     14\u001b[0m     nlp \u001b[38;5;241m=\u001b[39m spacy\u001b[38;5;241m.\u001b[39mload(MODEL)\n",
      "\u001b[0;31mNameError\u001b[0m: name 'text' is not defined"
     ]
    }
   ],
   "source": [
    "import spacy  # version 3.0.6'\n",
    "# initialize language model\n",
    "\n",
    "MODEL = \"en_core_web_md\"\n",
    "\n",
    "nlp = spacy.load(MODEL)\n",
    "# add pipeline (declared through entry_points in setup.py)\n",
    "nlp.add_pipe(\"entity_linker\", last=True)\n",
    "\n",
    "doc = nlp(text)\n",
    "\n",
    "def entity_linking(input_text):\n",
    "    # initialize language model\n",
    "    nlp = spacy.load(MODEL)\n",
    "    # add pipeline (declared through entry_points in setup.py)\n",
    "    nlp.add_pipe(\"entity_linker\", last=True)\n",
    "    doc = nlp(input_text)\n",
    "    # returns all entities in the whole document\n",
    "    all_linked_entities = doc._.linkedEntities\n",
    "    # iterates over sentences and prints linked entities\n",
    "    for sent in doc.sents:\n",
    "        print(\"*\"*30)\n",
    "        sent._.linkedEntities.pretty_print()\n",
    "        sent._.linkedEntities.print_super_entities()\n",
    "        print(\"*\"*30)\n",
    "    return all_linked_entities \n",
    "\n",
    "\n",
    "ents = entity_linking(text)"
   ]
  },
  {
   "cell_type": "markdown",
   "metadata": {},
   "source": [
    "### Entity linking via KB in spacy"
   ]
  },
  {
   "cell_type": "code",
   "execution_count": null,
   "metadata": {},
   "outputs": [],
   "source": []
  },
  {
   "cell_type": "code",
   "execution_count": null,
   "metadata": {},
   "outputs": [],
   "source": []
  },
  {
   "cell_type": "code",
   "execution_count": null,
   "metadata": {},
   "outputs": [],
   "source": []
  },
  {
   "cell_type": "code",
   "execution_count": null,
   "metadata": {},
   "outputs": [],
   "source": []
  },
  {
   "cell_type": "code",
   "execution_count": null,
   "metadata": {},
   "outputs": [],
   "source": []
  }
 ],
 "metadata": {
  "kernelspec": {
   "display_name": "NER-__nqcdZj",
   "language": "python",
   "name": "ner-__nqcdzj"
  },
  "language_info": {
   "codemirror_mode": {
    "name": "ipython",
    "version": 3
   },
   "file_extension": ".py",
   "mimetype": "text/x-python",
   "name": "python",
   "nbconvert_exporter": "python",
   "pygments_lexer": "ipython3",
   "version": "3.8.2"
  }
 },
 "nbformat": 4,
 "nbformat_minor": 4
}
